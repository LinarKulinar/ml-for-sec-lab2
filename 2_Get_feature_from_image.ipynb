{
 "cells": [
  {
   "cell_type": "markdown",
   "metadata": {
    "colab_type": "text",
    "id": "view-in-github"
   },
   "source": [
    "<a href=\"https://colab.research.google.com/github/LinarKulinar/ml-for-sec-lab2/blob/main/Get_feature_from_image.ipynb\" target=\"_parent\"><img src=\"https://colab.research.google.com/assets/colab-badge.svg\" alt=\"Open In Colab\"/></a>"
   ]
  },
  {
   "cell_type": "code",
   "execution_count": 1,
   "metadata": {
    "id": "iuQC1Y6ZTVow"
   },
   "outputs": [],
   "source": [
    "import cv2\n",
    "import numpy as np\n",
    "import matplotlib.pyplot as plt\n",
    "%matplotlib inline\n",
    "\n",
    "import random\n",
    "from random import random, randrange, randint\n",
    "\n",
    "from operator import itemgetter\n",
    "\n",
    "import os, sys\n",
    "import pandas as pd\n",
    "\n",
    "import pickle\n"
   ]
  },
  {
   "cell_type": "markdown",
   "metadata": {},
   "source": [
    "#### Парсим изображения из папки"
   ]
  },
  {
   "cell_type": "code",
   "execution_count": 2,
   "metadata": {
    "id": "jWJE8_YTUZ-k"
   },
   "outputs": [],
   "source": [
    "# input_dir_name = 'encoded_images_all/padding_level_0.1/'\n",
    "# output_dir_name = 'features/padding_level_0.1/'\n",
    "\n",
    "# input_dir_name = 'encoded_images_all/padding_level_0.2/'\n",
    "# output_dir_name = 'features/padding_level_0.2/'\n",
    "\n",
    "input_dir_name = 'encoded_images_all/padding_level_0.9/'\n",
    "output_dir_name = 'features/padding_level_0.9/'\n",
    "pictures = os.listdir(input_dir_name)\n",
    "count_pictures = len(pictures)\n",
    "\n",
    "imgs_raw = []\n",
    "for k in range(count_pictures):\n",
    "    im = cv2.imread(f'{input_dir_name}{pictures[k]}', 0)\n",
    "    imgs_raw.append(im)"
   ]
  },
  {
   "cell_type": "code",
   "execution_count": 3,
   "metadata": {
    "id": "9IOKkN6Fb2Pu"
   },
   "outputs": [],
   "source": [
    "imgs = np.array(imgs_raw)"
   ]
  },
  {
   "cell_type": "markdown",
   "metadata": {},
   "source": [
    "#### Парсим метки изображений"
   ]
  },
  {
   "cell_type": "code",
   "execution_count": 4,
   "metadata": {},
   "outputs": [],
   "source": [
    "\n",
    "with open(f'encoded_images_all/labels.pickle', 'rb') as f:\n",
    "    labels = pickle.load(f)\n",
    "labels = labels.astype(int)"
   ]
  },
  {
   "cell_type": "code",
   "execution_count": 5,
   "metadata": {},
   "outputs": [],
   "source": [
    "pictures = pictures[:-1]"
   ]
  },
  {
   "cell_type": "markdown",
   "metadata": {
    "id": "BR0Lda8ctY4H"
   },
   "source": [
    "#### Опишем функцию `get_features`, которая из изображения возвращает метод признаков, с помощью метода пар значений."
   ]
  },
  {
   "cell_type": "code",
   "execution_count": 6,
   "metadata": {
    "colab": {
     "base_uri": "https://localhost:8080/"
    },
    "id": "o5uX8a8XW6gO",
    "outputId": "320c2568-4ecf-4b2a-fb1e-351b13882357"
   },
   "outputs": [],
   "source": [
    "q = 2 # Вторая битовая плоскость\n",
    "\n",
    "def get_features(img, method, q_beatmap = 2):\n",
    "  \"\"\"\n",
    "      Метод вычленяет вектор признаков из изображений\n",
    "      :param img: Исходное изображение\n",
    "      :param method: Имя метода, которым будет совершаться преобразование изображения в вектор признаков\n",
    "      :param q_beatmap: номер битовой плоскости, в которой происходит поиск\n",
    "      \"\"\"\n",
    "  assert len(img.shape) == 2\n",
    "\n",
    "  def get_features_pixel_pairs_value(image, q_beatmap = 2):\n",
    "    \"\"\"\n",
    "      Вычленяет вектор признаков методом пар значений.\n",
    "      Метод основывается на гипотезе о том, \n",
    "      что равновероятно количество яркостей пикселя, \n",
    "      отличающихся только битом на битовой плоскости q_beatmap\n",
    "      :param img: Исходное изображение\n",
    "      :param q_beatmap: номер битовой плоскости, в которой происходит поиск\n",
    "      \"\"\"\n",
    "    \n",
    "    def get_hist_theoretical(hist_empiritical, q_beatmap = 2):\n",
    "      \"\"\"\n",
    "      Вычисляет теоретическую гистограмму по эмпирической гистограмме \n",
    "      на основе гипотезы о том, что равновероятно количество яркостей пикселя, \n",
    "      отличающихся только битом на битовой плоскости q_beatmap\n",
    "      :param hist_empiritical: эмпирическая гистограмма изображения\n",
    "      :param q_beatmap: номер битовой плоскости, в которой происходит поиск\n",
    "      \"\"\"\n",
    "      assert 1 <= q_beatmap <= 8, \"q_beatmap отличается от допустимых значений\"\n",
    "      assert len(hist_empiritical) == 256\n",
    "      assert len(hist_empiritical) > 2 ** (q_beatmap - 1), \"q_beatmap больше значения возможного для hist_e\"\n",
    "      bitmask = 1 << (q_beatmap - 1) # битмаска с единицей на месте q_beatmap\n",
    "      bitmask_inverse = 255 - (bitmask)\n",
    "      result = []\n",
    "      for i in range(len(hist_empiritical)):\n",
    "        index1 = i & bitmask_inverse  # обнулили бит на битовой плоскости q_beatmap\n",
    "        index2 = i | bitmask # поставили единицу на бит на битовой плоскости q_beatmap\n",
    "        result.append((hist_empiritical[index1] + hist_empiritical[index2]) / 2)\n",
    "      return np.array(result)\n",
    "\n",
    "    hist_empiritical = np.histogram(image, bins=256, range=(0, 256))[0]\n",
    "    hist_theoretical = get_hist_theoretical(hist_empiritical, q)\n",
    "    return (np.array(hist_empiritical) - hist_theoretical) ** 2\n",
    "\n",
    "  if method == 'pixel_pairs_value':\n",
    "    return get_features_pixel_pairs_value(img)\n",
    "  else:\n",
    "    raise ValueError(\"Invalid param 'method' value\")\n",
    "  \n",
    "\n",
    "\n",
    "# get_features(imgs[0], 'pixel_pairs_value', q_beatmap=2)"
   ]
  },
  {
   "cell_type": "markdown",
   "metadata": {
    "id": "EasUQVodt13R"
   },
   "source": [
    "#### Передадим изображения в метод `get_features`"
   ]
  },
  {
   "cell_type": "code",
   "execution_count": 7,
   "metadata": {
    "id": "Rt3YrfTbpzAs"
   },
   "outputs": [],
   "source": [
    "features = []\n",
    "for index, img in enumerate(imgs):\n",
    "  features.append(get_features(img, 'pixel_pairs_value', q_beatmap=2))\n",
    "features = np.array(features)"
   ]
  },
  {
   "cell_type": "code",
   "execution_count": 8,
   "metadata": {
    "colab": {
     "base_uri": "https://localhost:8080/"
    },
    "id": "Mb-GJ2WrrAVc",
    "outputId": "7c5ccf27-19e8-47f5-e39e-f44e1d361b7b"
   },
   "outputs": [
    {
     "data": {
      "text/plain": [
       "(1000, 256)"
      ]
     },
     "execution_count": 8,
     "metadata": {},
     "output_type": "execute_result"
    }
   ],
   "source": [
    "features.shape"
   ]
  },
  {
   "cell_type": "code",
   "execution_count": 9,
   "metadata": {},
   "outputs": [],
   "source": [
    "df = pd.DataFrame(features)"
   ]
  },
  {
   "cell_type": "code",
   "execution_count": 10,
   "metadata": {},
   "outputs": [],
   "source": [
    "df['label'] = labels "
   ]
  },
  {
   "cell_type": "code",
   "execution_count": 11,
   "metadata": {
    "scrolled": false
   },
   "outputs": [
    {
     "name": "stdout",
     "output_type": "stream",
     "text": [
      "<class 'pandas.core.frame.DataFrame'>\n"
     ]
    },
    {
     "data": {
      "text/html": [
       "<div>\n",
       "<style scoped>\n",
       "    .dataframe tbody tr th:only-of-type {\n",
       "        vertical-align: middle;\n",
       "    }\n",
       "\n",
       "    .dataframe tbody tr th {\n",
       "        vertical-align: top;\n",
       "    }\n",
       "\n",
       "    .dataframe thead th {\n",
       "        text-align: right;\n",
       "    }\n",
       "</style>\n",
       "<table border=\"1\" class=\"dataframe\">\n",
       "  <thead>\n",
       "    <tr style=\"text-align: right;\">\n",
       "      <th></th>\n",
       "      <th>0</th>\n",
       "      <th>1</th>\n",
       "      <th>2</th>\n",
       "      <th>3</th>\n",
       "      <th>4</th>\n",
       "      <th>5</th>\n",
       "      <th>6</th>\n",
       "      <th>7</th>\n",
       "      <th>8</th>\n",
       "      <th>9</th>\n",
       "      <th>...</th>\n",
       "      <th>247</th>\n",
       "      <th>248</th>\n",
       "      <th>249</th>\n",
       "      <th>250</th>\n",
       "      <th>251</th>\n",
       "      <th>252</th>\n",
       "      <th>253</th>\n",
       "      <th>254</th>\n",
       "      <th>255</th>\n",
       "      <th>label</th>\n",
       "    </tr>\n",
       "  </thead>\n",
       "  <tbody>\n",
       "    <tr>\n",
       "      <th>990</th>\n",
       "      <td>0.00</td>\n",
       "      <td>1.00</td>\n",
       "      <td>0.00</td>\n",
       "      <td>1.00</td>\n",
       "      <td>58081.00</td>\n",
       "      <td>107912.25</td>\n",
       "      <td>58081.00</td>\n",
       "      <td>107912.25</td>\n",
       "      <td>246016.00</td>\n",
       "      <td>119370.25</td>\n",
       "      <td>...</td>\n",
       "      <td>0.00</td>\n",
       "      <td>0.00</td>\n",
       "      <td>0.00</td>\n",
       "      <td>0.00</td>\n",
       "      <td>0.00</td>\n",
       "      <td>0.00</td>\n",
       "      <td>0.00</td>\n",
       "      <td>0.00</td>\n",
       "      <td>0.00</td>\n",
       "      <td>0</td>\n",
       "    </tr>\n",
       "    <tr>\n",
       "      <th>991</th>\n",
       "      <td>0.00</td>\n",
       "      <td>0.00</td>\n",
       "      <td>0.00</td>\n",
       "      <td>0.00</td>\n",
       "      <td>0.00</td>\n",
       "      <td>0.00</td>\n",
       "      <td>0.00</td>\n",
       "      <td>0.00</td>\n",
       "      <td>289.00</td>\n",
       "      <td>9604.00</td>\n",
       "      <td>...</td>\n",
       "      <td>4.00</td>\n",
       "      <td>9.00</td>\n",
       "      <td>2.25</td>\n",
       "      <td>9.00</td>\n",
       "      <td>2.25</td>\n",
       "      <td>0.00</td>\n",
       "      <td>0.00</td>\n",
       "      <td>0.00</td>\n",
       "      <td>0.00</td>\n",
       "      <td>0</td>\n",
       "    </tr>\n",
       "    <tr>\n",
       "      <th>992</th>\n",
       "      <td>0.00</td>\n",
       "      <td>0.00</td>\n",
       "      <td>0.00</td>\n",
       "      <td>0.00</td>\n",
       "      <td>0.00</td>\n",
       "      <td>0.00</td>\n",
       "      <td>0.00</td>\n",
       "      <td>0.00</td>\n",
       "      <td>0.00</td>\n",
       "      <td>0.00</td>\n",
       "      <td>...</td>\n",
       "      <td>4160.25</td>\n",
       "      <td>1936.00</td>\n",
       "      <td>506.25</td>\n",
       "      <td>1936.00</td>\n",
       "      <td>506.25</td>\n",
       "      <td>3364.00</td>\n",
       "      <td>8464.00</td>\n",
       "      <td>3364.00</td>\n",
       "      <td>8464.00</td>\n",
       "      <td>0</td>\n",
       "    </tr>\n",
       "    <tr>\n",
       "      <th>993</th>\n",
       "      <td>0.25</td>\n",
       "      <td>380.25</td>\n",
       "      <td>0.25</td>\n",
       "      <td>380.25</td>\n",
       "      <td>5776.00</td>\n",
       "      <td>1640.25</td>\n",
       "      <td>5776.00</td>\n",
       "      <td>1640.25</td>\n",
       "      <td>121.00</td>\n",
       "      <td>182.25</td>\n",
       "      <td>...</td>\n",
       "      <td>1406.25</td>\n",
       "      <td>144.00</td>\n",
       "      <td>6.25</td>\n",
       "      <td>144.00</td>\n",
       "      <td>6.25</td>\n",
       "      <td>729.00</td>\n",
       "      <td>3660.25</td>\n",
       "      <td>729.00</td>\n",
       "      <td>3660.25</td>\n",
       "      <td>0</td>\n",
       "    </tr>\n",
       "    <tr>\n",
       "      <th>994</th>\n",
       "      <td>0.00</td>\n",
       "      <td>4.00</td>\n",
       "      <td>0.00</td>\n",
       "      <td>4.00</td>\n",
       "      <td>25.00</td>\n",
       "      <td>400.00</td>\n",
       "      <td>25.00</td>\n",
       "      <td>400.00</td>\n",
       "      <td>2209.00</td>\n",
       "      <td>576.00</td>\n",
       "      <td>...</td>\n",
       "      <td>3969.00</td>\n",
       "      <td>2209.00</td>\n",
       "      <td>441.00</td>\n",
       "      <td>2209.00</td>\n",
       "      <td>441.00</td>\n",
       "      <td>839056.00</td>\n",
       "      <td>558009.00</td>\n",
       "      <td>839056.00</td>\n",
       "      <td>558009.00</td>\n",
       "      <td>0</td>\n",
       "    </tr>\n",
       "    <tr>\n",
       "      <th>995</th>\n",
       "      <td>0.00</td>\n",
       "      <td>0.00</td>\n",
       "      <td>0.00</td>\n",
       "      <td>0.00</td>\n",
       "      <td>0.00</td>\n",
       "      <td>0.00</td>\n",
       "      <td>0.00</td>\n",
       "      <td>0.00</td>\n",
       "      <td>0.00</td>\n",
       "      <td>0.00</td>\n",
       "      <td>...</td>\n",
       "      <td>0.25</td>\n",
       "      <td>0.25</td>\n",
       "      <td>0.00</td>\n",
       "      <td>0.25</td>\n",
       "      <td>0.00</td>\n",
       "      <td>0.00</td>\n",
       "      <td>0.00</td>\n",
       "      <td>0.00</td>\n",
       "      <td>0.00</td>\n",
       "      <td>0</td>\n",
       "    </tr>\n",
       "    <tr>\n",
       "      <th>996</th>\n",
       "      <td>0.00</td>\n",
       "      <td>0.00</td>\n",
       "      <td>0.00</td>\n",
       "      <td>0.00</td>\n",
       "      <td>0.00</td>\n",
       "      <td>0.00</td>\n",
       "      <td>0.00</td>\n",
       "      <td>0.00</td>\n",
       "      <td>0.00</td>\n",
       "      <td>0.00</td>\n",
       "      <td>...</td>\n",
       "      <td>361.00</td>\n",
       "      <td>2500.00</td>\n",
       "      <td>777042.25</td>\n",
       "      <td>2500.00</td>\n",
       "      <td>777042.25</td>\n",
       "      <td>69797670.25</td>\n",
       "      <td>3653832.25</td>\n",
       "      <td>69797670.25</td>\n",
       "      <td>3653832.25</td>\n",
       "      <td>0</td>\n",
       "    </tr>\n",
       "    <tr>\n",
       "      <th>997</th>\n",
       "      <td>0.00</td>\n",
       "      <td>576.00</td>\n",
       "      <td>0.00</td>\n",
       "      <td>576.00</td>\n",
       "      <td>8556.25</td>\n",
       "      <td>12.25</td>\n",
       "      <td>8556.25</td>\n",
       "      <td>12.25</td>\n",
       "      <td>38220.25</td>\n",
       "      <td>96721.00</td>\n",
       "      <td>...</td>\n",
       "      <td>0.00</td>\n",
       "      <td>0.00</td>\n",
       "      <td>0.00</td>\n",
       "      <td>0.00</td>\n",
       "      <td>0.00</td>\n",
       "      <td>0.00</td>\n",
       "      <td>0.00</td>\n",
       "      <td>0.00</td>\n",
       "      <td>0.00</td>\n",
       "      <td>0</td>\n",
       "    </tr>\n",
       "    <tr>\n",
       "      <th>998</th>\n",
       "      <td>0.00</td>\n",
       "      <td>0.00</td>\n",
       "      <td>0.00</td>\n",
       "      <td>0.00</td>\n",
       "      <td>0.00</td>\n",
       "      <td>0.00</td>\n",
       "      <td>0.00</td>\n",
       "      <td>0.00</td>\n",
       "      <td>2.25</td>\n",
       "      <td>36.00</td>\n",
       "      <td>...</td>\n",
       "      <td>210.25</td>\n",
       "      <td>4.00</td>\n",
       "      <td>0.00</td>\n",
       "      <td>4.00</td>\n",
       "      <td>0.00</td>\n",
       "      <td>930.25</td>\n",
       "      <td>2162.25</td>\n",
       "      <td>930.25</td>\n",
       "      <td>2162.25</td>\n",
       "      <td>0</td>\n",
       "    </tr>\n",
       "    <tr>\n",
       "      <th>999</th>\n",
       "      <td>0.00</td>\n",
       "      <td>0.00</td>\n",
       "      <td>0.00</td>\n",
       "      <td>0.00</td>\n",
       "      <td>0.00</td>\n",
       "      <td>0.00</td>\n",
       "      <td>0.00</td>\n",
       "      <td>0.00</td>\n",
       "      <td>0.00</td>\n",
       "      <td>0.00</td>\n",
       "      <td>...</td>\n",
       "      <td>0.00</td>\n",
       "      <td>0.00</td>\n",
       "      <td>0.00</td>\n",
       "      <td>0.00</td>\n",
       "      <td>0.00</td>\n",
       "      <td>0.00</td>\n",
       "      <td>0.00</td>\n",
       "      <td>0.00</td>\n",
       "      <td>0.00</td>\n",
       "      <td>0</td>\n",
       "    </tr>\n",
       "  </tbody>\n",
       "</table>\n",
       "<p>10 rows × 257 columns</p>\n",
       "</div>"
      ],
      "text/plain": [
       "        0       1     2       3         4          5         6          7  \\\n",
       "990  0.00    1.00  0.00    1.00  58081.00  107912.25  58081.00  107912.25   \n",
       "991  0.00    0.00  0.00    0.00      0.00       0.00      0.00       0.00   \n",
       "992  0.00    0.00  0.00    0.00      0.00       0.00      0.00       0.00   \n",
       "993  0.25  380.25  0.25  380.25   5776.00    1640.25   5776.00    1640.25   \n",
       "994  0.00    4.00  0.00    4.00     25.00     400.00     25.00     400.00   \n",
       "995  0.00    0.00  0.00    0.00      0.00       0.00      0.00       0.00   \n",
       "996  0.00    0.00  0.00    0.00      0.00       0.00      0.00       0.00   \n",
       "997  0.00  576.00  0.00  576.00   8556.25      12.25   8556.25      12.25   \n",
       "998  0.00    0.00  0.00    0.00      0.00       0.00      0.00       0.00   \n",
       "999  0.00    0.00  0.00    0.00      0.00       0.00      0.00       0.00   \n",
       "\n",
       "             8          9  ...      247      248        249      250  \\\n",
       "990  246016.00  119370.25  ...     0.00     0.00       0.00     0.00   \n",
       "991     289.00    9604.00  ...     4.00     9.00       2.25     9.00   \n",
       "992       0.00       0.00  ...  4160.25  1936.00     506.25  1936.00   \n",
       "993     121.00     182.25  ...  1406.25   144.00       6.25   144.00   \n",
       "994    2209.00     576.00  ...  3969.00  2209.00     441.00  2209.00   \n",
       "995       0.00       0.00  ...     0.25     0.25       0.00     0.25   \n",
       "996       0.00       0.00  ...   361.00  2500.00  777042.25  2500.00   \n",
       "997   38220.25   96721.00  ...     0.00     0.00       0.00     0.00   \n",
       "998       2.25      36.00  ...   210.25     4.00       0.00     4.00   \n",
       "999       0.00       0.00  ...     0.00     0.00       0.00     0.00   \n",
       "\n",
       "           251          252         253          254         255  label  \n",
       "990       0.00         0.00        0.00         0.00        0.00      0  \n",
       "991       2.25         0.00        0.00         0.00        0.00      0  \n",
       "992     506.25      3364.00     8464.00      3364.00     8464.00      0  \n",
       "993       6.25       729.00     3660.25       729.00     3660.25      0  \n",
       "994     441.00    839056.00   558009.00    839056.00   558009.00      0  \n",
       "995       0.00         0.00        0.00         0.00        0.00      0  \n",
       "996  777042.25  69797670.25  3653832.25  69797670.25  3653832.25      0  \n",
       "997       0.00         0.00        0.00         0.00        0.00      0  \n",
       "998       0.00       930.25     2162.25       930.25     2162.25      0  \n",
       "999       0.00         0.00        0.00         0.00        0.00      0  \n",
       "\n",
       "[10 rows x 257 columns]"
      ]
     },
     "execution_count": 11,
     "metadata": {},
     "output_type": "execute_result"
    }
   ],
   "source": [
    "print(type(df))\n",
    "df.tail(10)"
   ]
  },
  {
   "cell_type": "markdown",
   "metadata": {},
   "source": [
    "#### Сохраним полученные фичи в файл"
   ]
  },
  {
   "cell_type": "code",
   "execution_count": 12,
   "metadata": {},
   "outputs": [],
   "source": [
    "df.to_csv(f'{output_dir_name}features.csv')"
   ]
  }
 ],
 "metadata": {
  "colab": {
   "authorship_tag": "ABX9TyOGOj5B0lICUVPZoVZGvot2",
   "include_colab_link": true,
   "provenance": []
  },
  "kernelspec": {
   "display_name": "Python 3 (ipykernel)",
   "language": "python",
   "name": "python3"
  },
  "language_info": {
   "codemirror_mode": {
    "name": "ipython",
    "version": 3
   },
   "file_extension": ".py",
   "mimetype": "text/x-python",
   "name": "python",
   "nbconvert_exporter": "python",
   "pygments_lexer": "ipython3",
   "version": "3.7.15"
  }
 },
 "nbformat": 4,
 "nbformat_minor": 1
}
