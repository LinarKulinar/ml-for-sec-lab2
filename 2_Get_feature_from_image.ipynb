{
 "cells": [
  {
   "cell_type": "markdown",
   "metadata": {
    "colab_type": "text",
    "id": "view-in-github"
   },
   "source": [
    "<a href=\"https://colab.research.google.com/github/LinarKulinar/ml-for-sec-lab2/blob/main/Get_feature_from_image.ipynb\" target=\"_parent\"><img src=\"https://colab.research.google.com/assets/colab-badge.svg\" alt=\"Open In Colab\"/></a>"
   ]
  },
  {
   "cell_type": "code",
   "execution_count": 1,
   "metadata": {
    "id": "iuQC1Y6ZTVow"
   },
   "outputs": [],
   "source": [
    "import cv2\n",
    "import numpy as np\n",
    "import matplotlib.pyplot as plt\n",
    "%matplotlib inline\n",
    "\n",
    "import random\n",
    "from random import random, randrange, randint\n",
    "\n",
    "from operator import itemgetter\n",
    "\n",
    "import os, sys\n",
    "import pandas as pd\n",
    "\n",
    "import pickle\n"
   ]
  },
  {
   "cell_type": "code",
   "execution_count": 2,
   "metadata": {
    "id": "jWJE8_YTUZ-k"
   },
   "outputs": [],
   "source": [
    "# dir_name = 'BOWS2/'\n",
    "# dir_name = 'BOWS2'\n",
    "dir_name = 'encoded_images_all/padding_level_1.0/'\n",
    "pictures = os.listdir(dir_name)\n",
    "count_pictures = len(pictures)\n",
    "\n",
    "imgs_raw = []\n",
    "for k in range(count_pictures):\n",
    "    im = cv2.imread(f'{dir_name}{pictures[k]}', 0)\n",
    "    imgs_raw.append(im)"
   ]
  },
  {
   "cell_type": "code",
   "execution_count": 3,
   "metadata": {
    "id": "9IOKkN6Fb2Pu"
   },
   "outputs": [],
   "source": [
    "imgs = np.array(imgs_raw)"
   ]
  },
  {
   "cell_type": "code",
   "execution_count": 4,
   "metadata": {},
   "outputs": [],
   "source": [
    "# with open(f'{dir_name}/labels.pickle', 'rb') as f:\n",
    "with open(f'encoded_images_all/labels.pickle', 'rb') as f:\n",
    "    labels = pickle.load(f)"
   ]
  },
  {
   "cell_type": "code",
   "execution_count": 5,
   "metadata": {},
   "outputs": [],
   "source": [
    "pictures = pictures[:-1]"
   ]
  },
  {
   "cell_type": "markdown",
   "metadata": {
    "id": "BR0Lda8ctY4H"
   },
   "source": [
    "#### Опишем функцию `get_features`, которая из изображения возвращает метод признаков, с помощью метода пар значений."
   ]
  },
  {
   "cell_type": "code",
   "execution_count": 6,
   "metadata": {
    "colab": {
     "base_uri": "https://localhost:8080/"
    },
    "id": "o5uX8a8XW6gO",
    "outputId": "320c2568-4ecf-4b2a-fb1e-351b13882357"
   },
   "outputs": [],
   "source": [
    "q = 2 # Вторая битовая плоскость\n",
    "\n",
    "def get_features(img, method, q_beatmap = 2):\n",
    "  \"\"\"\n",
    "      Метод вычленяет вектор признаков из изображений\n",
    "      :param img: Исходное изображение\n",
    "      :param method: Имя метода, которым будет совершаться преобразование изображения в вектор признаков\n",
    "      :param q_beatmap: номер битовой плоскости, в которой происходит поиск\n",
    "      \"\"\"\n",
    "  assert len(img.shape) == 2\n",
    "\n",
    "  def get_features_pixel_pairs_value(image, q_beatmap = 2):\n",
    "    \"\"\"\n",
    "      Вычленяет вектор признаков методом пар значений.\n",
    "      Метод основывается на гипотезе о том, \n",
    "      что равновероятно количество яркостей пикселя, \n",
    "      отличающихся только битом на битовой плоскости q_beatmap\n",
    "      :param img: Исходное изображение\n",
    "      :param q_beatmap: номер битовой плоскости, в которой происходит поиск\n",
    "      \"\"\"\n",
    "    \n",
    "    def get_hist_theoretical(hist_empiritical, q_beatmap = 2):\n",
    "      \"\"\"\n",
    "      Вычисляет теоретическую гистограмму по эмпирической гистограмме \n",
    "      на основе гипотезы о том, что равновероятно количество яркостей пикселя, \n",
    "      отличающихся только битом на битовой плоскости q_beatmap\n",
    "      :param hist_empiritical: эмпирическая гистограмма изображения\n",
    "      :param q_beatmap: номер битовой плоскости, в которой происходит поиск\n",
    "      \"\"\"\n",
    "      assert 1 <= q_beatmap <= 8, \"q_beatmap отличается от допустимых значений\"\n",
    "      assert len(hist_empiritical) == 256\n",
    "      assert len(hist_empiritical) > 2 ** (q_beatmap - 1), \"q_beatmap больше значения возможного для hist_e\"\n",
    "      bitmask = 1 << (q_beatmap - 1) # битмаска с единицей на месте q_beatmap\n",
    "      bitmask_inverse = 255 - (bitmask)\n",
    "      result = []\n",
    "      for i in range(len(hist_empiritical)):\n",
    "        index1 = i & bitmask_inverse  # обнулили бит на битовой плоскости q_beatmap\n",
    "        index2 = i | bitmask # поставили единицу на бит на битовой плоскости q_beatmap\n",
    "        result.append((hist_empiritical[index1] + hist_empiritical[index2]) / 2)\n",
    "      return np.array(result)\n",
    "\n",
    "    hist_empiritical = np.histogram(image, bins=256, range=(0, 256))[0]\n",
    "    hist_theoretical = get_hist_theoretical(hist_empiritical, q)\n",
    "    return (np.array(hist_empiritical) - hist_theoretical) ** 2\n",
    "\n",
    "  if method == 'pixel_pairs_value':\n",
    "    return get_features_pixel_pairs_value(img)\n",
    "  else:\n",
    "    raise ValueError(\"Invalid param 'method' value\")\n",
    "  \n",
    "\n",
    "\n",
    "# get_features(imgs[0], 'pixel_pairs_value', q_beatmap=2)"
   ]
  },
  {
   "cell_type": "markdown",
   "metadata": {
    "id": "EasUQVodt13R"
   },
   "source": [
    "### Передадим изображения в метод `get_features`"
   ]
  },
  {
   "cell_type": "code",
   "execution_count": 7,
   "metadata": {
    "id": "Rt3YrfTbpzAs"
   },
   "outputs": [],
   "source": [
    "features = []\n",
    "for index, img in enumerate(imgs):\n",
    "  features.append(get_features(img, 'pixel_pairs_value', q_beatmap=2))\n",
    "features = np.array(features)"
   ]
  },
  {
   "cell_type": "code",
   "execution_count": 8,
   "metadata": {
    "colab": {
     "base_uri": "https://localhost:8080/"
    },
    "id": "Mb-GJ2WrrAVc",
    "outputId": "7c5ccf27-19e8-47f5-e39e-f44e1d361b7b"
   },
   "outputs": [
    {
     "data": {
      "text/plain": [
       "(1000, 256)"
      ]
     },
     "execution_count": 8,
     "metadata": {},
     "output_type": "execute_result"
    }
   ],
   "source": [
    "features.shape"
   ]
  },
  {
   "cell_type": "code",
   "execution_count": 9,
   "metadata": {},
   "outputs": [],
   "source": [
    "with open(f'features/padding_level_1.0/features.pickle', 'wb') as handle:\n",
    "    pickle.dump(features, handle, protocol=pickle.HIGHEST_PROTOCOL)"
   ]
  },
  {
   "cell_type": "code",
   "execution_count": 11,
   "metadata": {},
   "outputs": [],
   "source": [
    "with open(f'features/padding_level_1.0/labels.pickle', 'wb') as handle:\n",
    "    pickle.dump(labels, handle, protocol=pickle.HIGHEST_PROTOCOL)"
   ]
  },
  {
   "cell_type": "code",
   "execution_count": 12,
   "metadata": {
    "id": "Ba-EfwC5rM89"
   },
   "outputs": [],
   "source": [
    "# todo Надо не забыть отнормиовать фичи потом"
   ]
  }
 ],
 "metadata": {
  "colab": {
   "authorship_tag": "ABX9TyOGOj5B0lICUVPZoVZGvot2",
   "include_colab_link": true,
   "provenance": []
  },
  "kernelspec": {
   "display_name": "Python 3 (ipykernel)",
   "language": "python",
   "name": "python3"
  },
  "language_info": {
   "codemirror_mode": {
    "name": "ipython",
    "version": 3
   },
   "file_extension": ".py",
   "mimetype": "text/x-python",
   "name": "python",
   "nbconvert_exporter": "python",
   "pygments_lexer": "ipython3",
   "version": "3.7.15"
  }
 },
 "nbformat": 4,
 "nbformat_minor": 1
}
