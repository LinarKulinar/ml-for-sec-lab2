{
 "cells": [
  {
   "cell_type": "markdown",
   "metadata": {
    "colab_type": "text",
    "id": "view-in-github"
   },
   "source": [
    "<a href=\"https://colab.research.google.com/github/LinarKulinar/ml-for-sec-lab2/blob/main/Get_feature_from_image.ipynb\" target=\"_parent\"><img src=\"https://colab.research.google.com/assets/colab-badge.svg\" alt=\"Open In Colab\"/></a>"
   ]
  },
  {
   "cell_type": "code",
   "execution_count": 1,
   "metadata": {
    "id": "iuQC1Y6ZTVow"
   },
   "outputs": [],
   "source": [
    "import cv2\n",
    "import numpy as np\n",
    "import matplotlib.pyplot as plt\n",
    "%matplotlib inline\n",
    "\n",
    "import random\n",
    "from random import random, randrange, randint\n",
    "\n",
    "from operator import itemgetter\n",
    "\n",
    "import os, sys\n",
    "import pandas as pd\n",
    "\n",
    "import pickle\n"
   ]
  },
  {
   "cell_type": "code",
   "execution_count": 2,
   "metadata": {
    "id": "jWJE8_YTUZ-k"
   },
   "outputs": [],
   "source": [
    "# dir_name = 'BOWS2/'\n",
    "# dir_name = 'BOWS2'\n",
    "dir_name = 'encoded_images_all/padding_level_1.0/'\n",
    "pictures = os.listdir(dir_name)\n",
    "count_pictures = len(pictures)\n",
    "\n",
    "imgs_raw = []\n",
    "for k in range(count_pictures):\n",
    "    im = cv2.imread(f'{dir_name}{pictures[k]}', 0)\n",
    "    imgs_raw.append(im)"
   ]
  },
  {
   "cell_type": "code",
   "execution_count": 3,
   "metadata": {
    "id": "9IOKkN6Fb2Pu"
   },
   "outputs": [],
   "source": [
    "imgs = np.array(imgs_raw)"
   ]
  },
  {
   "cell_type": "code",
   "execution_count": 4,
   "metadata": {},
   "outputs": [],
   "source": [
    "# with open(f'{dir_name}/labels.pickle', 'rb') as f:\n",
    "with open(f'encoded_images_all/labels.pickle', 'rb') as f:\n",
    "    labels = pickle.load(f)\n",
    "labels = labels.astype(int)"
   ]
  },
  {
   "cell_type": "code",
   "execution_count": 5,
   "metadata": {},
   "outputs": [],
   "source": [
    "pictures = pictures[:-1]"
   ]
  },
  {
   "cell_type": "markdown",
   "metadata": {
    "id": "BR0Lda8ctY4H"
   },
   "source": [
    "#### Опишем функцию `get_features`, которая из изображения возвращает метод признаков, с помощью метода пар значений."
   ]
  },
  {
   "cell_type": "code",
   "execution_count": 6,
   "metadata": {
    "colab": {
     "base_uri": "https://localhost:8080/"
    },
    "id": "o5uX8a8XW6gO",
    "outputId": "320c2568-4ecf-4b2a-fb1e-351b13882357"
   },
   "outputs": [],
   "source": [
    "q = 2 # Вторая битовая плоскость\n",
    "\n",
    "def get_features(img, method, q_beatmap = 2):\n",
    "  \"\"\"\n",
    "      Метод вычленяет вектор признаков из изображений\n",
    "      :param img: Исходное изображение\n",
    "      :param method: Имя метода, которым будет совершаться преобразование изображения в вектор признаков\n",
    "      :param q_beatmap: номер битовой плоскости, в которой происходит поиск\n",
    "      \"\"\"\n",
    "  assert len(img.shape) == 2\n",
    "\n",
    "  def get_features_pixel_pairs_value(image, q_beatmap = 2):\n",
    "    \"\"\"\n",
    "      Вычленяет вектор признаков методом пар значений.\n",
    "      Метод основывается на гипотезе о том, \n",
    "      что равновероятно количество яркостей пикселя, \n",
    "      отличающихся только битом на битовой плоскости q_beatmap\n",
    "      :param img: Исходное изображение\n",
    "      :param q_beatmap: номер битовой плоскости, в которой происходит поиск\n",
    "      \"\"\"\n",
    "    \n",
    "    def get_hist_theoretical(hist_empiritical, q_beatmap = 2):\n",
    "      \"\"\"\n",
    "      Вычисляет теоретическую гистограмму по эмпирической гистограмме \n",
    "      на основе гипотезы о том, что равновероятно количество яркостей пикселя, \n",
    "      отличающихся только битом на битовой плоскости q_beatmap\n",
    "      :param hist_empiritical: эмпирическая гистограмма изображения\n",
    "      :param q_beatmap: номер битовой плоскости, в которой происходит поиск\n",
    "      \"\"\"\n",
    "      assert 1 <= q_beatmap <= 8, \"q_beatmap отличается от допустимых значений\"\n",
    "      assert len(hist_empiritical) == 256\n",
    "      assert len(hist_empiritical) > 2 ** (q_beatmap - 1), \"q_beatmap больше значения возможного для hist_e\"\n",
    "      bitmask = 1 << (q_beatmap - 1) # битмаска с единицей на месте q_beatmap\n",
    "      bitmask_inverse = 255 - (bitmask)\n",
    "      result = []\n",
    "      for i in range(len(hist_empiritical)):\n",
    "        index1 = i & bitmask_inverse  # обнулили бит на битовой плоскости q_beatmap\n",
    "        index2 = i | bitmask # поставили единицу на бит на битовой плоскости q_beatmap\n",
    "        result.append((hist_empiritical[index1] + hist_empiritical[index2]) / 2)\n",
    "      return np.array(result)\n",
    "\n",
    "    hist_empiritical = np.histogram(image, bins=256, range=(0, 256))[0]\n",
    "    hist_theoretical = get_hist_theoretical(hist_empiritical, q)\n",
    "    return (np.array(hist_empiritical) - hist_theoretical) ** 2\n",
    "\n",
    "  if method == 'pixel_pairs_value':\n",
    "    return get_features_pixel_pairs_value(img)\n",
    "  else:\n",
    "    raise ValueError(\"Invalid param 'method' value\")\n",
    "  \n",
    "\n",
    "\n",
    "# get_features(imgs[0], 'pixel_pairs_value', q_beatmap=2)"
   ]
  },
  {
   "cell_type": "markdown",
   "metadata": {
    "id": "EasUQVodt13R"
   },
   "source": [
    "### Передадим изображения в метод `get_features`"
   ]
  },
  {
   "cell_type": "code",
   "execution_count": 7,
   "metadata": {
    "id": "Rt3YrfTbpzAs"
   },
   "outputs": [],
   "source": [
    "features = []\n",
    "for index, img in enumerate(imgs):\n",
    "  features.append(get_features(img, 'pixel_pairs_value', q_beatmap=2))\n",
    "features = np.array(features)"
   ]
  },
  {
   "cell_type": "code",
   "execution_count": 16,
   "metadata": {
    "colab": {
     "base_uri": "https://localhost:8080/"
    },
    "id": "Mb-GJ2WrrAVc",
    "outputId": "7c5ccf27-19e8-47f5-e39e-f44e1d361b7b"
   },
   "outputs": [
    {
     "data": {
      "text/plain": [
       "(1000, 256)"
      ]
     },
     "execution_count": 16,
     "metadata": {},
     "output_type": "execute_result"
    }
   ],
   "source": [
    "features.shape"
   ]
  },
  {
   "cell_type": "code",
   "execution_count": 9,
   "metadata": {},
   "outputs": [],
   "source": [
    "df = pd.DataFrame(features)"
   ]
  },
  {
   "cell_type": "code",
   "execution_count": 10,
   "metadata": {},
   "outputs": [],
   "source": [
    "df['label'] = labels "
   ]
  },
  {
   "cell_type": "code",
   "execution_count": 18,
   "metadata": {
    "scrolled": false
   },
   "outputs": [
    {
     "name": "stdout",
     "output_type": "stream",
     "text": [
      "<class 'pandas.core.frame.DataFrame'>\n"
     ]
    },
    {
     "data": {
      "text/html": [
       "<div>\n",
       "<style scoped>\n",
       "    .dataframe tbody tr th:only-of-type {\n",
       "        vertical-align: middle;\n",
       "    }\n",
       "\n",
       "    .dataframe tbody tr th {\n",
       "        vertical-align: top;\n",
       "    }\n",
       "\n",
       "    .dataframe thead th {\n",
       "        text-align: right;\n",
       "    }\n",
       "</style>\n",
       "<table border=\"1\" class=\"dataframe\">\n",
       "  <thead>\n",
       "    <tr style=\"text-align: right;\">\n",
       "      <th></th>\n",
       "      <th>0</th>\n",
       "      <th>1</th>\n",
       "      <th>2</th>\n",
       "      <th>3</th>\n",
       "      <th>4</th>\n",
       "      <th>5</th>\n",
       "      <th>6</th>\n",
       "      <th>7</th>\n",
       "      <th>8</th>\n",
       "      <th>9</th>\n",
       "      <th>...</th>\n",
       "      <th>247</th>\n",
       "      <th>248</th>\n",
       "      <th>249</th>\n",
       "      <th>250</th>\n",
       "      <th>251</th>\n",
       "      <th>252</th>\n",
       "      <th>253</th>\n",
       "      <th>254</th>\n",
       "      <th>255</th>\n",
       "      <th>label</th>\n",
       "    </tr>\n",
       "  </thead>\n",
       "  <tbody>\n",
       "    <tr>\n",
       "      <th>0</th>\n",
       "      <td>2.25</td>\n",
       "      <td>25.00</td>\n",
       "      <td>2.25</td>\n",
       "      <td>25.00</td>\n",
       "      <td>2.25</td>\n",
       "      <td>361.0</td>\n",
       "      <td>2.25</td>\n",
       "      <td>361.0</td>\n",
       "      <td>0.25</td>\n",
       "      <td>9.0</td>\n",
       "      <td>...</td>\n",
       "      <td>0.00</td>\n",
       "      <td>42.25</td>\n",
       "      <td>72.25</td>\n",
       "      <td>42.25</td>\n",
       "      <td>72.25</td>\n",
       "      <td>36.0</td>\n",
       "      <td>12.25</td>\n",
       "      <td>36.0</td>\n",
       "      <td>12.25</td>\n",
       "      <td>1</td>\n",
       "    </tr>\n",
       "    <tr>\n",
       "      <th>1</th>\n",
       "      <td>20.25</td>\n",
       "      <td>12.25</td>\n",
       "      <td>20.25</td>\n",
       "      <td>12.25</td>\n",
       "      <td>2.25</td>\n",
       "      <td>49.0</td>\n",
       "      <td>2.25</td>\n",
       "      <td>49.0</td>\n",
       "      <td>72.25</td>\n",
       "      <td>1.0</td>\n",
       "      <td>...</td>\n",
       "      <td>64.00</td>\n",
       "      <td>25.00</td>\n",
       "      <td>9.00</td>\n",
       "      <td>25.00</td>\n",
       "      <td>9.00</td>\n",
       "      <td>121.0</td>\n",
       "      <td>132.25</td>\n",
       "      <td>121.0</td>\n",
       "      <td>132.25</td>\n",
       "      <td>1</td>\n",
       "    </tr>\n",
       "    <tr>\n",
       "      <th>2</th>\n",
       "      <td>0.00</td>\n",
       "      <td>0.00</td>\n",
       "      <td>0.00</td>\n",
       "      <td>0.00</td>\n",
       "      <td>0.00</td>\n",
       "      <td>0.0</td>\n",
       "      <td>0.00</td>\n",
       "      <td>0.0</td>\n",
       "      <td>0.00</td>\n",
       "      <td>0.0</td>\n",
       "      <td>...</td>\n",
       "      <td>0.00</td>\n",
       "      <td>0.00</td>\n",
       "      <td>0.00</td>\n",
       "      <td>0.00</td>\n",
       "      <td>0.00</td>\n",
       "      <td>0.0</td>\n",
       "      <td>0.00</td>\n",
       "      <td>0.0</td>\n",
       "      <td>0.00</td>\n",
       "      <td>1</td>\n",
       "    </tr>\n",
       "    <tr>\n",
       "      <th>3</th>\n",
       "      <td>0.00</td>\n",
       "      <td>0.25</td>\n",
       "      <td>0.00</td>\n",
       "      <td>0.25</td>\n",
       "      <td>16.00</td>\n",
       "      <td>9.0</td>\n",
       "      <td>16.00</td>\n",
       "      <td>9.0</td>\n",
       "      <td>0.00</td>\n",
       "      <td>196.0</td>\n",
       "      <td>...</td>\n",
       "      <td>9.00</td>\n",
       "      <td>16.00</td>\n",
       "      <td>4.00</td>\n",
       "      <td>16.00</td>\n",
       "      <td>4.00</td>\n",
       "      <td>9.0</td>\n",
       "      <td>0.25</td>\n",
       "      <td>9.0</td>\n",
       "      <td>0.25</td>\n",
       "      <td>1</td>\n",
       "    </tr>\n",
       "    <tr>\n",
       "      <th>4</th>\n",
       "      <td>0.00</td>\n",
       "      <td>0.00</td>\n",
       "      <td>0.00</td>\n",
       "      <td>0.00</td>\n",
       "      <td>0.00</td>\n",
       "      <td>0.0</td>\n",
       "      <td>0.00</td>\n",
       "      <td>0.0</td>\n",
       "      <td>0.00</td>\n",
       "      <td>0.0</td>\n",
       "      <td>...</td>\n",
       "      <td>30.25</td>\n",
       "      <td>30.25</td>\n",
       "      <td>20.25</td>\n",
       "      <td>30.25</td>\n",
       "      <td>20.25</td>\n",
       "      <td>0.0</td>\n",
       "      <td>2.25</td>\n",
       "      <td>0.0</td>\n",
       "      <td>2.25</td>\n",
       "      <td>1</td>\n",
       "    </tr>\n",
       "  </tbody>\n",
       "</table>\n",
       "<p>5 rows × 257 columns</p>\n",
       "</div>"
      ],
      "text/plain": [
       "       0      1      2      3      4      5      6      7      8      9  ...  \\\n",
       "0   2.25  25.00   2.25  25.00   2.25  361.0   2.25  361.0   0.25    9.0  ...   \n",
       "1  20.25  12.25  20.25  12.25   2.25   49.0   2.25   49.0  72.25    1.0  ...   \n",
       "2   0.00   0.00   0.00   0.00   0.00    0.0   0.00    0.0   0.00    0.0  ...   \n",
       "3   0.00   0.25   0.00   0.25  16.00    9.0  16.00    9.0   0.00  196.0  ...   \n",
       "4   0.00   0.00   0.00   0.00   0.00    0.0   0.00    0.0   0.00    0.0  ...   \n",
       "\n",
       "     247    248    249    250    251    252     253    254     255  label  \n",
       "0   0.00  42.25  72.25  42.25  72.25   36.0   12.25   36.0   12.25      1  \n",
       "1  64.00  25.00   9.00  25.00   9.00  121.0  132.25  121.0  132.25      1  \n",
       "2   0.00   0.00   0.00   0.00   0.00    0.0    0.00    0.0    0.00      1  \n",
       "3   9.00  16.00   4.00  16.00   4.00    9.0    0.25    9.0    0.25      1  \n",
       "4  30.25  30.25  20.25  30.25  20.25    0.0    2.25    0.0    2.25      1  \n",
       "\n",
       "[5 rows x 257 columns]"
      ]
     },
     "execution_count": 18,
     "metadata": {},
     "output_type": "execute_result"
    }
   ],
   "source": [
    "print(type(df))\n",
    "df.head()"
   ]
  },
  {
   "cell_type": "code",
   "execution_count": 12,
   "metadata": {},
   "outputs": [],
   "source": [
    "df.to_csv(f'features/padding_level_1.0/features.csv')"
   ]
  }
 ],
 "metadata": {
  "colab": {
   "authorship_tag": "ABX9TyOGOj5B0lICUVPZoVZGvot2",
   "include_colab_link": true,
   "provenance": []
  },
  "kernelspec": {
   "display_name": "Python 3 (ipykernel)",
   "language": "python",
   "name": "python3"
  },
  "language_info": {
   "codemirror_mode": {
    "name": "ipython",
    "version": 3
   },
   "file_extension": ".py",
   "mimetype": "text/x-python",
   "name": "python",
   "nbconvert_exporter": "python",
   "pygments_lexer": "ipython3",
   "version": "3.7.15"
  }
 },
 "nbformat": 4,
 "nbformat_minor": 1
}
