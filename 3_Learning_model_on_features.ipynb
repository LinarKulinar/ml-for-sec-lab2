{
 "cells": [
  {
   "cell_type": "markdown",
   "metadata": {
    "colab_type": "text",
    "id": "view-in-github"
   },
   "source": [
    "<a href=\"https://colab.research.google.com/github/LinarKulinar/ml-for-sec-lab2/blob/main/Get_feature_from_image.ipynb\" target=\"_parent\"><img src=\"https://colab.research.google.com/assets/colab-badge.svg\" alt=\"Open In Colab\"/></a>"
   ]
  },
  {
   "cell_type": "code",
   "execution_count": 1,
   "metadata": {
    "id": "iuQC1Y6ZTVow"
   },
   "outputs": [],
   "source": [
    "import cv2\n",
    "import numpy as np\n",
    "import matplotlib.pyplot as plt\n",
    "%matplotlib inline\n",
    "\n",
    "import random\n",
    "from random import random, randrange, randint\n",
    "\n",
    "from operator import itemgetter\n",
    "\n",
    "import os, sys\n",
    "import pandas as pd\n",
    "import os, sys\n",
    "\n",
    "import pickle\n"
   ]
  },
  {
   "cell_type": "code",
   "execution_count": 2,
   "metadata": {},
   "outputs": [],
   "source": [
    "from sklearn.model_selection import train_test_split\n",
    "from sklearn.svm import SVC\n",
    "from catboost import CatBoostClassifier\n",
    "from sklearn.neighbors import KNeighborsClassifier\n",
    "from sklearn.tree import DecisionTreeClassifier\n",
    "from sklearn.ensemble import RandomForestClassifier\n",
    "from sklearn.naive_bayes import MultinomialNB\n",
    "from sklearn.linear_model import LogisticRegression\n",
    "from sklearn.discriminant_analysis import LinearDiscriminantAnalysis as LDA\n",
    "\n",
    "\n",
    "\n",
    "from sklearn.metrics import confusion_matrix, classification_report, f1_score, accuracy_score, roc_curve, plot_confusion_matrix\n",
    "\n",
    "from sklearn.pipeline import Pipeline\n",
    "from sklearn.preprocessing import StandardScaler\n",
    "from sklearn.preprocessing import MinMaxScaler\n",
    "\n",
    "from sklearn.model_selection import GridSearchCV"
   ]
  },
  {
   "cell_type": "markdown",
   "metadata": {},
   "source": [
    "## Глобальные важные переменные"
   ]
  },
  {
   "cell_type": "code",
   "execution_count": 3,
   "metadata": {},
   "outputs": [],
   "source": [
    "list_padding_level = [0.0, 0.1, 0.2, 0.3, 0.4, 0.5, 0.6, 0.7, 0.8, 0.9, 1.0]"
   ]
  },
  {
   "cell_type": "code",
   "execution_count": 4,
   "metadata": {},
   "outputs": [],
   "source": [
    "dir_name = 'features/'"
   ]
  },
  {
   "cell_type": "code",
   "execution_count": 5,
   "metadata": {},
   "outputs": [
    {
     "data": {
      "text/plain": [
       "['padding_level_0.0',\n",
       " 'padding_level_0.1',\n",
       " 'padding_level_0.2',\n",
       " 'padding_level_0.3',\n",
       " 'padding_level_0.4',\n",
       " 'padding_level_0.5',\n",
       " 'padding_level_0.6',\n",
       " 'padding_level_0.7',\n",
       " 'padding_level_0.8',\n",
       " 'padding_level_0.9',\n",
       " 'padding_level_1.0']"
      ]
     },
     "execution_count": 5,
     "metadata": {},
     "output_type": "execute_result"
    }
   ],
   "source": [
    "files = os.listdir(dir_name)\n",
    "files"
   ]
  },
  {
   "cell_type": "markdown",
   "metadata": {},
   "source": [
    "#### Логрегрессия"
   ]
  },
  {
   "cell_type": "code",
   "execution_count": 6,
   "metadata": {
    "scrolled": true
   },
   "outputs": [
    {
     "data": {
      "image/png": "[encoded data removed]",
      "text/plain": [
       "<Figure size 500x300 with 1 Axes>"
      ]
     },
     "metadata": {},
     "output_type": "display_data"
    }
   ],
   "source": [
    "log_regression_accuracy_list = []\n",
    "\n",
    "for file in files:\n",
    "    df = pd.read_csv(f'{dir_name}{file}/features.csv')\n",
    "    # Разделим набор данных на независимые и зависимые переменные. Сохраняем как массив\n",
    "    X = df.drop('label', axis = 1)\n",
    "    Y = df['label']\n",
    "    X_train, X_test, y_train, y_test = train_test_split(X, Y, test_size=0.3)\n",
    "    X_train, X_val, y_train, y_val = train_test_split(X_train, y_train, test_size=0.2)\n",
    "    # Нормализуем данные\n",
    "    scaler = StandardScaler()\n",
    "    X_train_M = scaler.fit_transform(X_train)\n",
    "    X_test_M = scaler.transform(X_test)\n",
    "    # Подаем в модель на вход\n",
    "    model_Log = LogisticRegression() \n",
    "    model_Log.fit(X_train_M, y_train)\n",
    "    Y_Log = model_Log.predict(X_test_M)\n",
    "    log_regression_accuracy_list.append(accuracy_score(y_test, Y_Log))\n",
    "    \n",
    "\n",
    "plt.figure(figsize=(5,3))\n",
    "plt.title(\"Точность для log_regression\")\n",
    "plt.ylabel(\"Accuracy\")\n",
    "plt.xlabel(\"Заполненность контейнера\")\n",
    "plt.plot(list_padding_level, log_regression_accuracy_list)\n",
    "plt.show()"
   ]
  },
  {
   "cell_type": "code",
   "execution_count": null,
   "metadata": {},
   "outputs": [],
   "source": [
    "catboost_model = CatBoostClassifier(\n",
    "    allow_writing_files=False,\n",
    "    silent=True\n",
    ")\n",
    "\n",
    "catboost_accuracy_list = []\n",
    "\n",
    "for file in files:\n",
    "    df = pd.read_csv(f'{dir_name}{file}/features.csv')\n",
    "    # Разделим набор данных на независимые и зависимые переменные. Сохраняем как массив\n",
    "    X = df.drop('label', axis = 1)\n",
    "    Y = df['label']\n",
    "    X_train, X_test, y_train, y_test = train_test_split(X, Y, test_size=0.3)\n",
    "    X_train, X_val, y_train, y_val = train_test_split(X_train, y_train, test_size=0.2)\n",
    "    # Нормализуем данные\n",
    "    scaler = StandardScaler()\n",
    "    X_train_M = scaler.fit_transform(X_train)\n",
    "    X_test_M = scaler.transform(X_test)\n",
    "    # Подаем в модель на вход\n",
    "    catboost_model.fit(X_train, y_train, eval_set=(X_val, y_val), use_best_model=True)\n",
    "    catboost_accuracy_list.append(accuracy_score(y_test, catboost_model.predict(X_test)))\n",
    "    \n",
    "    Y_catboost = catboost_model.predict(X_test_M)\n",
    "    catboost_accuracy_list.append(accuracy_score(y_test, Y_catboost))\n",
    "    \n",
    "\n",
    "# plt.figure(figsize=(5,3))\n",
    "# plt.title(\"Точность для catboost\")\n",
    "# plt.ylabel(\"Accuracy\")\n",
    "# plt.xlabel(\"Заполненность контейнера\")\n",
    "# plt.plot(list_padding_level, catboost_accuracy_list)\n",
    "# plt.show()"
   ]
  },
  {
   "cell_type": "code",
   "execution_count": null,
   "metadata": {},
   "outputs": [],
   "source": [
    "catboost_accuracy_list"
   ]
  }
 ],
 "metadata": {
  "colab": {
   "authorship_tag": "ABX9TyOGOj5B0lICUVPZoVZGvot2",
   "include_colab_link": true,
   "provenance": []
  },
  "kernelspec": {
   "display_name": "Python 3 (ipykernel)",
   "language": "python",
   "name": "python3"
  },
  "language_info": {
   "codemirror_mode": {
    "name": "ipython",
    "version": 3
   },
   "file_extension": ".py",
   "mimetype": "text/x-python",
   "name": "python",
   "nbconvert_exporter": "python",
   "pygments_lexer": "ipython3",
   "version": "3.7.15"
  }
 },
 "nbformat": 4,
 "nbformat_minor": 1
}
