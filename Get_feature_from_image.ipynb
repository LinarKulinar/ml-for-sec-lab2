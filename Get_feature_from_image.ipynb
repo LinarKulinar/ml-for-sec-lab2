{
  "nbformat": 4,
  "nbformat_minor": 0,
  "metadata": {
    "colab": {
      "provenance": [],
      "authorship_tag": "ABX9TyOGOj5B0lICUVPZoVZGvot2",
      "include_colab_link": true
    },
    "kernelspec": {
      "name": "python3",
      "display_name": "Python 3"
    },
    "language_info": {
      "name": "python"
    }
  },
  "cells": [
    {
      "cell_type": "markdown",
      "metadata": {
        "id": "view-in-github",
        "colab_type": "text"
      },
      "source": [
        "<a href=\"https://colab.research.google.com/github/LinarKulinar/ml-for-sec-lab2/blob/main/Get_feature_from_image.ipynb\" target=\"_parent\"><img src=\"https://colab.research.google.com/assets/colab-badge.svg\" alt=\"Open In Colab\"/></a>"
      ]
    },
    {
      "cell_type": "code",
      "execution_count": 1,
      "metadata": {
        "id": "iuQC1Y6ZTVow"
      },
      "outputs": [],
      "source": [
        "import cv2\n",
        "import numpy as np\n",
        "import matplotlib.pyplot as plt\n",
        "%matplotlib inline\n",
        "\n",
        "import random\n",
        "from random import random, randrange, randint\n",
        "\n",
        "from operator import itemgetter\n",
        "\n",
        "import os, sys\n",
        "import pandas as pd\n"
      ]
    },
    {
      "cell_type": "code",
      "source": [
        "# dir_name = 'BOWS2/'\n",
        "dir_name = 'BOWS2_TMP/'\n",
        "pictures = os.listdir(dir_name)\n",
        "count_pictures = len(pictures)\n",
        "\n",
        "imgs_raw = []\n",
        "for k in range(count_pictures):\n",
        "  im = cv2.imread(f'{dir_name}{pictures[k]}', 0)\n",
        "  imgs_raw.append(im)"
      ],
      "metadata": {
        "id": "jWJE8_YTUZ-k"
      },
      "execution_count": 2,
      "outputs": []
    },
    {
      "cell_type": "code",
      "source": [
        "imgs = np.array(imgs_raw)"
      ],
      "metadata": {
        "id": "9IOKkN6Fb2Pu"
      },
      "execution_count": 3,
      "outputs": []
    },
    {
      "cell_type": "markdown",
      "source": [
        "#### Опишем функцию `get_features`, которая из изображения возвращает метод признаков, с помощью метода пар значений."
      ],
      "metadata": {
        "id": "BR0Lda8ctY4H"
      }
    },
    {
      "cell_type": "code",
      "source": [
        "q = 2 # Вторая битовая плоскость\n",
        "\n",
        "def get_features(img, method, q_beatmap = 2):\n",
        "  \"\"\"\n",
        "      Метод вычленяет вектор признаков из изображений\n",
        "      :param img: Исходное изображение\n",
        "      :param method: Имя метода, которым будет совершаться преобразование изображения в вектор признаков\n",
        "      :param q_beatmap: номер битовой плоскости, в которой происходит поиск\n",
        "      \"\"\"\n",
        "  assert len(img.shape) == 2\n",
        "\n",
        "  def get_features_pixel_pairs_value(image, q_beatmap = 2):\n",
        "    \"\"\"\n",
        "      Вычленяет вектор признаков методом пар значений.\n",
        "      Метод основывается на гипотезе о том, \n",
        "      что равновероятно количество яркостей пикселя, \n",
        "      отличающихся только битом на битовой плоскости q_beatmap\n",
        "      :param img: Исходное изображение\n",
        "      :param q_beatmap: номер битовой плоскости, в которой происходит поиск\n",
        "      \"\"\"\n",
        "    \n",
        "    def get_hist_theoretical(hist_empiritical, q_beatmap = 2):\n",
        "      \"\"\"\n",
        "      Вычисляет теоретическую гистограмму по эмпирической гистограмме \n",
        "      на основе гипотезы о том, что равновероятно количество яркостей пикселя, \n",
        "      отличающихся только битом на битовой плоскости q_beatmap\n",
        "      :param hist_empiritical: эмпирическая гистограмма изображения\n",
        "      :param q_beatmap: номер битовой плоскости, в которой происходит поиск\n",
        "      \"\"\"\n",
        "      assert 1 <= q_beatmap <= 8, \"q_beatmap отличается от допустимых значений\"\n",
        "      assert len(hist_empiritical) == 256\n",
        "      assert len(hist_empiritical) > 2 ** (q_beatmap - 1), \"q_beatmap больше значения возможного для hist_e\"\n",
        "      bitmask = 1 << (q_beatmap - 1) # битмаска с единицей на месте q_beatmap\n",
        "      bitmask_inverse = 255 - (bitmask)\n",
        "      result = []\n",
        "      for i in range(len(hist_empiritical)):\n",
        "        index1 = i & bitmask_inverse  # обнулили бит на битовой плоскости q_beatmap\n",
        "        index2 = i | bitmask # поставили единицу на бит на битовой плоскости q_beatmap\n",
        "        result.append((hist_empiritical[index1] + hist_empiritical[index2]) / 2)\n",
        "      return np.array(result)\n",
        "\n",
        "    hist_empiritical = np.histogram(image, bins=256, range=(0, 256))[0]\n",
        "    hist_theoretical = get_hist_theoretical(hist_empiritical, q)\n",
        "    return (np.array(hist_empiritical) - hist_theoretical) ** 2\n",
        "\n",
        "  if method == 'pixel_pairs_value':\n",
        "    return get_features_pixel_pairs_value(img)\n",
        "  else:\n",
        "    raise ValueError(\"Invalid param 'method' value\")\n",
        "  \n",
        "\n",
        "\n",
        "# get_features(imgs[0], 'pixel_pairs_value', q_beatmap=2)"
      ],
      "metadata": {
        "colab": {
          "base_uri": "https://localhost:8080/"
        },
        "id": "o5uX8a8XW6gO",
        "outputId": "320c2568-4ecf-4b2a-fb1e-351b13882357"
      },
      "execution_count": 4,
      "outputs": [
        {
          "output_type": "execute_result",
          "data": {
            "text/plain": [
              "array([0.00000000e+00, 1.56025000e+03, 0.00000000e+00, 1.56025000e+03,\n",
              "       1.71396000e+05, 2.69880250e+05, 1.71396000e+05, 2.69880250e+05,\n",
              "       8.10000000e+01, 4.90000000e+01, 8.10000000e+01, 4.90000000e+01,\n",
              "       6.15040000e+04, 4.55625000e+03, 6.15040000e+04, 4.55625000e+03,\n",
              "       2.65225000e+03, 2.31040000e+04, 2.65225000e+03, 2.31040000e+04,\n",
              "       6.32025000e+03, 1.87690000e+04, 6.32025000e+03, 1.87690000e+04,\n",
              "       1.69000000e+02, 2.72250000e+02, 1.69000000e+02, 2.72250000e+02,\n",
              "       1.22500000e+01, 2.31040000e+04, 1.22500000e+01, 2.31040000e+04,\n",
              "       7.22500000e+03, 9.60400000e+03, 7.22500000e+03, 9.60400000e+03,\n",
              "       2.03062500e+04, 1.32250000e+04, 2.03062500e+04, 1.32250000e+04,\n",
              "       1.89225000e+03, 2.75625000e+03, 1.89225000e+03, 2.75625000e+03,\n",
              "       1.22500000e+01, 6.76000000e+02, 1.22500000e+01, 6.76000000e+02,\n",
              "       2.02500000e+01, 1.00000000e+02, 2.02500000e+01, 1.00000000e+02,\n",
              "       1.80625000e+03, 2.50000000e-01, 1.80625000e+03, 2.50000000e-01,\n",
              "       5.52250000e+02, 6.25000000e+00, 5.52250000e+02, 6.25000000e+00,\n",
              "       6.00250000e+02, 5.06250000e+02, 6.00250000e+02, 5.06250000e+02,\n",
              "       8.10000000e+01, 1.22500000e+01, 8.10000000e+01, 1.22500000e+01,\n",
              "       2.50000000e+01, 4.48900000e+03, 2.50000000e+01, 4.48900000e+03,\n",
              "       5.52250000e+02, 2.86225000e+03, 5.52250000e+02, 2.86225000e+03,\n",
              "       4.22500000e+01, 6.00250000e+02, 4.22500000e+01, 6.00250000e+02,\n",
              "       2.35225000e+03, 1.15600000e+03, 2.35225000e+03, 1.15600000e+03,\n",
              "       7.39600000e+03, 6.32025000e+03, 7.39600000e+03, 6.32025000e+03,\n",
              "       2.45025000e+03, 1.60000000e+01, 2.45025000e+03, 1.60000000e+01,\n",
              "       2.25625000e+03, 1.69000000e+02, 2.25625000e+03, 1.69000000e+02,\n",
              "       2.72250000e+02, 6.08400000e+03, 2.72250000e+02, 6.08400000e+03,\n",
              "       5.52250000e+02, 2.89000000e+02, 5.52250000e+02, 2.89000000e+02,\n",
              "       1.19025000e+03, 6.50250000e+02, 1.19025000e+03, 6.50250000e+02,\n",
              "       3.24900000e+03, 3.80250000e+02, 3.24900000e+03, 3.80250000e+02,\n",
              "       8.12250000e+02, 3.42250000e+02, 8.12250000e+02, 3.42250000e+02,\n",
              "       3.02500000e+01, 8.41000000e+02, 3.02500000e+01, 8.41000000e+02,\n",
              "       2.07025000e+03, 3.78225000e+03, 2.07025000e+03, 3.78225000e+03,\n",
              "       1.19902500e+04, 8.28100000e+03, 1.19902500e+04, 8.28100000e+03,\n",
              "       1.29600000e+03, 2.60822500e+04, 1.29600000e+03, 2.60822500e+04,\n",
              "       3.02500000e+03, 1.22500000e+03, 3.02500000e+03, 1.22500000e+03,\n",
              "       1.33225000e+03, 7.02250000e+02, 1.33225000e+03, 7.02250000e+02,\n",
              "       2.91600000e+03, 7.02250000e+02, 2.91600000e+03, 7.02250000e+02,\n",
              "       8.10000000e+01, 1.00000000e+02, 8.10000000e+01, 1.00000000e+02,\n",
              "       8.41000000e+02, 8.70250000e+02, 8.41000000e+02, 8.70250000e+02,\n",
              "       4.41000000e+02, 9.02500000e+01, 4.41000000e+02, 9.02500000e+01,\n",
              "       3.60000000e+01, 1.96000000e+02, 3.60000000e+01, 1.96000000e+02,\n",
              "       6.50250000e+02, 5.62500000e+01, 6.50250000e+02, 5.62500000e+01,\n",
              "       4.62250000e+02, 2.02500000e+01, 4.62250000e+02, 2.02500000e+01,\n",
              "       1.80625000e+03, 2.25000000e+02, 1.80625000e+03, 2.25000000e+02,\n",
              "       8.10000000e+01, 2.02500000e+01, 8.10000000e+01, 2.02500000e+01,\n",
              "       7.22500000e+01, 2.02500000e+01, 7.22500000e+01, 2.02500000e+01,\n",
              "       4.42225000e+03, 2.40100000e+03, 4.42225000e+03, 2.40100000e+03,\n",
              "       2.97025000e+03, 4.29025000e+03, 2.97025000e+03, 4.29025000e+03,\n",
              "       2.07025000e+03, 1.56025000e+03, 2.07025000e+03, 1.56025000e+03,\n",
              "       5.29000000e+02, 2.10250000e+02, 5.29000000e+02, 2.10250000e+02,\n",
              "       1.00000000e+00, 1.32250000e+02, 1.00000000e+00, 1.32250000e+02,\n",
              "       1.44000000e+02, 0.00000000e+00, 1.44000000e+02, 0.00000000e+00,\n",
              "       1.32250000e+02, 1.00000000e+02, 1.32250000e+02, 1.00000000e+02,\n",
              "       5.62500000e+01, 4.90000000e+01, 5.62500000e+01, 4.90000000e+01,\n",
              "       8.10000000e+01, 0.00000000e+00, 8.10000000e+01, 0.00000000e+00,\n",
              "       6.25000000e+00, 6.25000000e+00, 6.25000000e+00, 6.25000000e+00,\n",
              "       4.00000000e+00, 2.25000000e+00, 4.00000000e+00, 2.25000000e+00,\n",
              "       4.00000000e+00, 1.00000000e+00, 4.00000000e+00, 1.00000000e+00,\n",
              "       4.22500000e+01, 6.25000000e+00, 4.22500000e+01, 6.25000000e+00,\n",
              "       1.10250000e+02, 2.50000000e-01, 1.10250000e+02, 2.50000000e-01,\n",
              "       9.00000000e+00, 2.25000000e+00, 9.00000000e+00, 2.25000000e+00,\n",
              "       0.00000000e+00, 1.00000000e+00, 0.00000000e+00, 1.00000000e+00,\n",
              "       9.00000000e+00, 1.22500000e+01, 9.00000000e+00, 1.22500000e+01,\n",
              "       2.10250000e+02, 2.40250000e+02, 2.10250000e+02, 2.40250000e+02,\n",
              "       1.59138225e+06, 5.47396212e+08, 1.59138225e+06, 5.47396212e+08])"
            ]
          },
          "metadata": {},
          "execution_count": 4
        }
      ]
    },
    {
      "cell_type": "markdown",
      "source": [
        "### Передадим изображения в метод `get_features`"
      ],
      "metadata": {
        "id": "EasUQVodt13R"
      }
    },
    {
      "cell_type": "code",
      "source": [
        "features = []\n",
        "for img in imgs:\n",
        "  features.append(get_features(img, 'pixel_pairs_value', q_beatmap=2))\n",
        "features = np.array(features)"
      ],
      "metadata": {
        "id": "Rt3YrfTbpzAs"
      },
      "execution_count": 6,
      "outputs": []
    },
    {
      "cell_type": "code",
      "source": [
        "features.shape"
      ],
      "metadata": {
        "colab": {
          "base_uri": "https://localhost:8080/"
        },
        "id": "Mb-GJ2WrrAVc",
        "outputId": "7c5ccf27-19e8-47f5-e39e-f44e1d361b7b"
      },
      "execution_count": 9,
      "outputs": [
        {
          "output_type": "execute_result",
          "data": {
            "text/plain": [
              "(5, 256)"
            ]
          },
          "metadata": {},
          "execution_count": 9
        }
      ]
    },
    {
      "cell_type": "code",
      "source": [
        "# todo Надо не забыть отнормиовать фичи"
      ],
      "metadata": {
        "id": "Ba-EfwC5rM89"
      },
      "execution_count": 10,
      "outputs": []
    },
    {
      "cell_type": "code",
      "source": [],
      "metadata": {
        "id": "92yDoQq_rYuJ"
      },
      "execution_count": null,
      "outputs": []
    }
  ]
}